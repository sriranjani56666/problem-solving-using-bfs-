{
 "cells": [
  {
   "cell_type": "code",
   "execution_count": 2,
   "id": "611ef20a",
   "metadata": {},
   "outputs": [],
   "source": [
    "from queue import PriorityQueue\n",
    "v=12\n",
    "graph = [[] for i in range (v)]"
   ]
  },
  {
   "cell_type": "code",
   "execution_count": 9,
   "id": "c1635bcd",
   "metadata": {},
   "outputs": [],
   "source": [
    "def best_first_search(actual_src,target,n):\n",
    "    visited = [False] * n\n",
    "    pq = PriorityQueue()\n",
    "    pq.put((0,actual_src))\n",
    "    visited[actual_src] = True\n",
    "    \n",
    "    while pq.empty() == False:\n",
    "        u= pq.get()[1]\n",
    "        print(u, end =\" \")\n",
    "        if u == target:\n",
    "            break\n",
    "            \n",
    "        for v,c in graph[u]:\n",
    "            if visited[v] == False:\n",
    "                visited[v] = True\n",
    "                pq.put((c,v))\n",
    "    print()          \n",
    "    \n",
    "def addedge(x,y,cost):\n",
    "    graph[x].append((y,cost))\n",
    "    graph[y].append((x,cost))\n",
    "    \n",
    "addedge(0,1,3)\n",
    "addedge(0,2,2)\n",
    "addedge(0,3,5)\n",
    "addedge(2,6,1)\n",
    "addedge(6,7,2)\n",
    "addedge(6,9,2)\n",
    "addedge(7,10,0)\n",
    "addedge(7,11,9)\n",
    "addedge(1,4,4)\n",
    "addedge(1,5,8)\n",
    "addedge(3,8,6)\n",
    "addedge(8,11,9)"
   ]
  },
  {
   "cell_type": "code",
   "execution_count": 10,
   "id": "5a3ce0d0",
   "metadata": {},
   "outputs": [
    {
     "name": "stdout",
     "output_type": "stream",
     "text": [
      "0 2 6 7 10 9 1 4 3 8 5 11 \n"
     ]
    }
   ],
   "source": [
    "source = 0\n",
    "target = 12\n",
    "best_first_search(source,target,v)\n"
   ]
  },
  {
   "cell_type": "code",
   "execution_count": null,
   "id": "64641009",
   "metadata": {},
   "outputs": [],
   "source": []
  }
 ],
 "metadata": {
  "kernelspec": {
   "display_name": "Python 3 (ipykernel)",
   "language": "python",
   "name": "python3"
  },
  "language_info": {
   "codemirror_mode": {
    "name": "ipython",
    "version": 3
   },
   "file_extension": ".py",
   "mimetype": "text/x-python",
   "name": "python",
   "nbconvert_exporter": "python",
   "pygments_lexer": "ipython3",
   "version": "3.9.17"
  }
 },
 "nbformat": 4,
 "nbformat_minor": 5
}
